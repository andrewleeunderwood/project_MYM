{
  "cells": [
    {
      "cell_type": "code",
      "execution_count": null,
      "metadata": {
        "colab": {
          "base_uri": "https://localhost:8080/",
          "height": 34
        },
        "colab_type": "code",
        "id": "FugnPep-wemo",
        "outputId": "8ab2398e-e7f3-4aec-afe4-fbc9f7bbbd15"
      },
      "outputs": [],
      "source": [
        "from google.colab import drive\n",
        "drive.mount('/content/drive')"
      ]
    },
    {
      "cell_type": "code",
      "execution_count": null,
      "metadata": {
        "colab": {},
        "colab_type": "code",
        "id": "8ldZe6OlwiuP"
      },
      "outputs": [],
      "source": [
        "import numpy as np\n",
        "import tensorflow as tf\n",
        "from tensorflow import keras\n",
        "from tensorflow.keras import layers"
      ]
    },
    {
      "cell_type": "code",
      "execution_count": null,
      "metadata": {
        "colab": {},
        "colab_type": "code",
        "id": "Z-NS0l7Jwyb2"
      },
      "outputs": [],
      "source": [
        "folder = './Data/img_data'\n",
        "image_size = (224, 224)\n",
        "batch_size = 32"
      ]
    },
    {
      "cell_type": "code",
      "execution_count": null,
      "metadata": {
        "colab": {},
        "colab_type": "code",
        "id": "-OeAL7oFyWnO"
      },
      "outputs": [],
      "source": [
        "from keras.preprocessing.image import ImageDataGenerator\n",
        "classes = ['bb', 'bk', 'bn', 'bp', 'bq', 'br', 'empty', 'wb', 'wk', 'wn', 'wp', 'wq', 'wr']\n",
        "datagen = ImageDataGenerator(\n",
        "        rotation_range=5,\n",
        "        # width_shift_range=0.1,\n",
        "        # height_shift_range=0.1,\n",
        "        rescale=1./255,\n",
        "        horizontal_flip=True,\n",
        "        fill_mode='nearest')\n",
        "\n",
        "test_datagen = ImageDataGenerator(rescale=1./255)"
      ]
    },
    {
      "cell_type": "code",
      "execution_count": null,
      "metadata": {
        "colab": {
          "base_uri": "https://localhost:8080/",
          "height": 51
        },
        "colab_type": "code",
        "id": "5FzaqjxD0cwd",
        "outputId": "1e647b4c-c0fb-4e4f-ea55-157075190182"
      },
      "outputs": [],
      "source": [
        "train_gen = datagen.flow_from_directory(\n",
        "    folder + '/train/',\n",
        "    target_size = image_size,\n",
        "    batch_size = batch_size,\n",
        "    class_mode = 'categorical',\n",
        "    color_mode = 'rgb',\n",
        "    classes=classes,\n",
        "    shuffle=True  \n",
        ")\n",
        "\n",
        "test_gen = test_datagen.flow_from_directory(\n",
        "    folder + '/test/',\n",
        "    target_size = image_size,\n",
        "    batch_size = batch_size,\n",
        "    class_mode = 'categorical',\n",
        "    color_mode = 'rgb',\n",
        "    classes=classes,\n",
        "    shuffle=False \n",
        ")"
      ]
    },
    {
      "cell_type": "code",
      "execution_count": null,
      "metadata": {},
      "outputs": [],
      "source": []
    },
    {
      "cell_type": "code",
      "execution_count": null,
      "metadata": {
        "colab": {
          "base_uri": "https://localhost:8080/",
          "height": 969
        },
        "colab_type": "code",
        "id": "Plq6_55C1MPc",
        "outputId": "b943a7e2-a63c-416c-dcad-93e89d5c6850"
      },
      "outputs": [],
      "source": [
        "from keras.applications.vgg16 import VGG16\n",
        "from keras.applications.imagenet_utils import decode_predictions\n",
        "\n",
        "model = VGG16(weights='imagenet')\n",
        "model.summary()"
      ]
    },
    {
      "cell_type": "code",
      "execution_count": null,
      "metadata": {
        "colab": {
          "base_uri": "https://localhost:8080/",
          "height": 51
        },
        "colab_type": "code",
        "id": "7J1btS1W3JBP",
        "outputId": "8fcb326b-acc0-46d8-ecbe-dd45978f1aa0"
      },
      "outputs": [],
      "source": [
        "from keras.models import Sequential\n",
        "from keras.layers import Dense, Conv2D, MaxPooling2D, Flatten\n",
        "from keras.models import Model\n",
        "\n",
        "base_model = VGG16(weights='imagenet', include_top=False, input_shape=(224,224,3)) \n",
        " \n",
        "# Freeze convolutional layers\n",
        "for layer in base_model.layers:\n",
        "    layer.trainable = False    \n",
        "\n",
        "# Establish new fully connected block\n",
        "x = base_model.output\n",
        "x = Flatten()(x)  # flatten from convolution tensor output  \n",
        "x = Dense(500, activation='relu')(x) # number of layers and units are hyperparameters, as usual\n",
        "x = Dense(500, activation='relu')(x)\n",
        "predictions = Dense(13, activation='softmax')(x) # should match # of classes predicted\n",
        "\n",
        "# this is the model we will train\n",
        "model = Model(inputs=base_model.input, outputs=predictions)\n",
        "model.compile(optimizer='adam', loss='categorical_crossentropy', metrics=['categorical_accuracy'])"
      ]
    },
    {
      "cell_type": "code",
      "execution_count": null,
      "metadata": {
        "colab": {
          "base_uri": "https://localhost:8080/",
          "height": 377
        },
        "colab_type": "code",
        "id": "NWwMLiUu3Q34",
        "outputId": "d50fce4d-5ccb-4cbf-e5ba-da12835bbc48"
      },
      "outputs": [],
      "source": [
        "epochs = 10\n",
        "\n",
        "history = model.fit(\n",
        "    train_gen, \n",
        "    epochs=epochs,\n",
        "    verbose = 1,\n",
        "    validation_data=test_gen\n",
        "    )\n",
        "model.save_weights('model_VGG16.h5') \n",
        "model.save('model_VGG16_weight.h5') "
      ]
    },
    {
      "cell_type": "code",
      "execution_count": null,
      "metadata": {
        "colab": {
          "base_uri": "https://localhost:8080/",
          "height": 349
        },
        "colab_type": "code",
        "id": "w2oNGGKeLo5n",
        "outputId": "11cfc189-0a0a-4c48-c3ba-74b77dce29e4"
      },
      "outputs": [],
      "source": [
        "# import seaborn as sn\n",
        "import matplotlib.pyplot as plt\n",
        "import pandas as pd\n",
        "\n",
        "plt.plot(history.history['categorical_accuracy'], 'ko')\n",
        "plt.plot(history.history['val_categorical_accuracy'], 'b')\n",
        "\n",
        "plt.title('Accuracy vs Training Epoch')\n",
        "plt.xlabel('Epoch')\n",
        "plt.ylabel('Accuracy')\n",
        "plt.legend(['Train', 'Validation']);"
      ]
    },
    {
      "cell_type": "code",
      "execution_count": null,
      "metadata": {
        "colab": {
          "base_uri": "https://localhost:8080/",
          "height": 943
        },
        "colab_type": "code",
        "id": "3P7FHX05MLUD",
        "outputId": "0c7987d1-75fb-4449-a8e6-5f5e07514289"
      },
      "outputs": [],
      "source": [
        "from sklearn.metrics import classification_report, confusion_matrix\n",
        "\n",
        "target_names = ['BB', 'BK', 'BN', 'BP', 'BQ', 'BR', 'Empty', 'WB', 'WK', 'WN', 'WP', 'WQ', 'WR']\n",
        "\n",
        "test_gen.reset()\n",
        "Y_pred = model.predict_generator(test_gen)\n",
        "classes = test_gen.classes[test_gen.index_array]\n",
        "y_pred = np.argmax(Y_pred, axis= -1)\n",
        "print(sum(y_pred==classes)/800)\n",
        "\n",
        "\n",
        "data = confusion_matrix(classes, y_pred)\n",
        "df_cm = pd.DataFrame(data, columns=target_names, index = target_names)\n",
        "df_cm.index.name = 'Actual'\n",
        "df_cm.columns.name = 'Predicted'\n",
        "plt.figure(figsize = (20,14))\n",
        "sn.set(font_scale=1.4)#for label size\n",
        "sn.heatmap(df_cm, cmap=\"Blues\", annot=True,annot_kws={\"size\": 16})# font size"
      ]
    },
    {
      "cell_type": "code",
      "execution_count": null,
      "metadata": {
        "colab": {
          "base_uri": "https://localhost:8080/",
          "height": 612
        },
        "colab_type": "code",
        "id": "RwuWZwvy4VcS",
        "outputId": "28084712-1526-44c5-cd52-0f74b0d4dc84"
      },
      "outputs": [],
      "source": [
        "print('Confusion Matrix')\n",
        "print(data)\n",
        "print('Classification Report')\n",
        "print(classification_report(test_gen.classes[test_gen.index_array], y_pred, target_names=target_names))"
      ]
    },
    {
      "cell_type": "code",
      "execution_count": null,
      "metadata": {
        "colab": {
          "base_uri": "https://localhost:8080/",
          "height": 1000
        },
        "colab_type": "code",
        "id": "u3bYZ_36oVv-",
        "outputId": "695ad3bf-8d90-41fe-b6eb-481488eb5380"
      },
      "outputs": [],
      "source": [
        "from keras.applications.vgg19 import VGG19\n",
        "from keras.applications.imagenet_utils import decode_predictions\n",
        "\n",
        "model_two = VGG19(weights='imagenet')\n",
        "model_two.summary()"
      ]
    },
    {
      "cell_type": "code",
      "execution_count": null,
      "metadata": {
        "colab": {
          "base_uri": "https://localhost:8080/",
          "height": 51
        },
        "colab_type": "code",
        "id": "wopOBbpwvftf",
        "outputId": "d6022a56-f83c-4e00-b61c-07c50c13a7fc"
      },
      "outputs": [],
      "source": [
        "from keras.models import Sequential\n",
        "from keras.layers import Dense, Conv2D, MaxPooling2D, Flatten\n",
        "from keras.models import Model\n",
        "\n",
        "base_model_two = VGG19(weights='imagenet', include_top=False, input_shape=(224,224,3)) \n",
        " \n",
        "# Freeze convolutional layers\n",
        "for layer in base_model_two.layers:\n",
        "    layer.trainable = False    \n",
        "\n",
        "# Establish new fully connected block\n",
        "x = base_model_two.output\n",
        "x = Flatten()(x)  # flatten from convolution tensor output  \n",
        "x = Dense(500, activation='relu')(x) # number of layers and units are hyperparameters, as usual\n",
        "x = Dense(500, activation='relu')(x)\n",
        "predictions = Dense(13, activation='softmax')(x) # should match # of classes predicted\n",
        "\n",
        "# this is the model we will train\n",
        "model_two = Model(inputs=base_model_two.input, outputs=predictions)\n",
        "model_two.compile(optimizer='adam', loss='categorical_crossentropy', metrics=['accuracy'])"
      ]
    },
    {
      "cell_type": "code",
      "execution_count": null,
      "metadata": {
        "colab": {
          "base_uri": "https://localhost:8080/",
          "height": 357
        },
        "colab_type": "code",
        "id": "X0nH7g1Zv3c_",
        "outputId": "6332c1db-a56d-4e60-92fd-391919a60348"
      },
      "outputs": [],
      "source": [
        "epochs = 10\n",
        "\n",
        "history = model_two.fit(\n",
        "    train_gen, \n",
        "    epochs=epochs,\n",
        "    verbose = 1,\n",
        "    validation_data=test_gen\n",
        "    )\n",
        "model.save_weights('model_VGG19.h5') "
      ]
    },
    {
      "cell_type": "code",
      "execution_count": null,
      "metadata": {
        "colab": {
          "base_uri": "https://localhost:8080/",
          "height": 629
        },
        "colab_type": "code",
        "id": "aI_NxGBNwxaU",
        "outputId": "aeb9c5fe-7073-4339-afcc-b737e8604fb6"
      },
      "outputs": [],
      "source": [
        "test_gen.reset()\n",
        "Y_pred = model_two.predict_generator(test_gen)\n",
        "classes = test_gen.classes[test_gen.index_array]\n",
        "y_pred = np.argmax(Y_pred, axis= -1)\n",
        "print(sum(y_pred==classes)/800)\n",
        "\n",
        "\n",
        "print('Confusion Matrix')\n",
        "print(confusion_matrix(classes, y_pred))\n",
        "print('Classification Report')\n",
        "print(classification_report(test_gen.classes[test_gen.index_array], y_pred, target_names=target_names))"
      ]
    },
    {
      "cell_type": "code",
      "execution_count": null,
      "metadata": {},
      "outputs": [],
      "source": [
        "import math\n",
        "import cv2\n",
        "import numpy as np\n",
        "import scipy.spatial as spatial\n",
        "import scipy.cluster as cluster\n",
        "from collections import defaultdict\n",
        "from statistics import mean\n",
        "import chess\n",
        "import chess.svg\n",
        "from svglib.svglib import svg2rlg\n",
        "from reportlab.graphics import renderPM\n",
        "from PIL import Image\n",
        "import re\n",
        "import glob\n",
        "import PIL"
      ]
    },
    {
      "cell_type": "code",
      "execution_count": null,
      "metadata": {},
      "outputs": [],
      "source": [
        "\n",
        "from cv_chess_functions import prepare_image\n",
        "from keras.models import load_model\n",
        "img = prepare_image('./test.jpeg')"
      ]
    },
    {
      "cell_type": "code",
      "execution_count": null,
      "metadata": {},
      "outputs": [],
      "source": [
        "model = load_model('model_VGG16_weight.h5')"
      ]
    },
    {
      "cell_type": "code",
      "execution_count": null,
      "metadata": {
        "colab": {},
        "colab_type": "code",
        "id": "loPv70m_zS1_"
      },
      "outputs": [],
      "source": [
        "\n",
        "\n",
        "out = model.predict(img)\n",
        "\n",
        "print(out)"
      ]
    },
    {
      "cell_type": "code",
      "execution_count": null,
      "metadata": {},
      "outputs": [],
      "source": [
        "category_reference = {0: 'b', 1: 'k', 2: 'n', 3: 'p', 4: 'q', 5: 'r', 6: '1', 7: 'B', 8: 'K', 9: 'N', 10: 'P',\n",
        "11: 'Q', 12: 'R'}\n",
        "top_pred = np.argmax(out)\n",
        "pred = category_reference[top_pred]\n",
        "print(pred)"
      ]
    },
    {
      "cell_type": "code",
      "execution_count": null,
      "metadata": {},
      "outputs": [],
      "source": [
        "import sys\n",
        "print(sys.version)\n",
        "print(sys.path)"
      ]
    }
  ],
  "metadata": {
    "accelerator": "GPU",
    "colab": {
      "name": "cv_chess_model_and_eval.ipynb",
      "provenance": []
    },
    "kernelspec": {
      "display_name": "Python 3",
      "name": "python3"
    },
    "language_info": {
      "codemirror_mode": {
        "name": "ipython",
        "version": 3
      },
      "file_extension": ".py",
      "mimetype": "text/x-python",
      "name": "python",
      "nbconvert_exporter": "python",
      "pygments_lexer": "ipython3",
      "version": "3.9.10"
    }
  },
  "nbformat": 4,
  "nbformat_minor": 0
}
