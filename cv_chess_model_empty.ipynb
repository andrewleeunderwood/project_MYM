{
  "cells": [
    {
      "cell_type": "code",
      "execution_count": 1,
      "metadata": {
        "colab": {},
        "colab_type": "code",
        "id": "8ldZe6OlwiuP"
      },
      "outputs": [],
      "source": [
        "import numpy as np\n",
        "import tensorflow as tf\n",
        "from tensorflow import keras\n",
        "from tensorflow.keras import layers"
      ]
    },
    {
      "cell_type": "code",
      "execution_count": 2,
      "metadata": {
        "colab": {},
        "colab_type": "code",
        "id": "Z-NS0l7Jwyb2"
      },
      "outputs": [],
      "source": [
        "folder = './Data/img_data'\n",
        "image_size = (224, 224)\n",
        "batch_size = 32"
      ]
    },
    {
      "cell_type": "code",
      "execution_count": 3,
      "metadata": {
        "colab": {},
        "colab_type": "code",
        "id": "-OeAL7oFyWnO"
      },
      "outputs": [],
      "source": [
        "from keras.preprocessing.image import ImageDataGenerator\n",
        "classes = ['empty', 'antonym']\n",
        "datagen = ImageDataGenerator(\n",
        "        rotation_range=5,\n",
        "        # width_shift_range=0.1,\n",
        "        # height_shift_range=0.1,\n",
        "        rescale=1./255,\n",
        "        horizontal_flip=True,\n",
        "        fill_mode='nearest')\n",
        "\n",
        "test_datagen = ImageDataGenerator(rescale=1./255)"
      ]
    },
    {
      "cell_type": "code",
      "execution_count": 5,
      "metadata": {
        "colab": {
          "base_uri": "https://localhost:8080/",
          "height": 51
        },
        "colab_type": "code",
        "id": "5FzaqjxD0cwd",
        "outputId": "1e647b4c-c0fb-4e4f-ea55-157075190182"
      },
      "outputs": [
        {
          "name": "stdout",
          "output_type": "stream",
          "text": [
            "Found 2427 images belonging to 2 classes.\n",
            "Found 2427 images belonging to 2 classes.\n"
          ]
        }
      ],
      "source": [
        "train_gen = datagen.flow_from_directory(\n",
        "    folder + '/train/',\n",
        "    target_size = image_size,\n",
        "    batch_size = batch_size,\n",
        "    class_mode = 'categorical',\n",
        "    color_mode = 'rgb',\n",
        "    classes=classes,\n",
        "    shuffle=True  \n",
        ")\n",
        "\n",
        "test_gen = test_datagen.flow_from_directory(\n",
        "    folder + '/test/',\n",
        "    target_size = image_size,\n",
        "    batch_size = batch_size,\n",
        "    class_mode = 'categorical',\n",
        "    color_mode = 'rgb',\n",
        "    classes=classes,\n",
        "    shuffle=False \n",
        ")"
      ]
    },
    {
      "cell_type": "code",
      "execution_count": null,
      "metadata": {},
      "outputs": [],
      "source": []
    },
    {
      "cell_type": "code",
      "execution_count": 6,
      "metadata": {
        "colab": {
          "base_uri": "https://localhost:8080/",
          "height": 969
        },
        "colab_type": "code",
        "id": "Plq6_55C1MPc",
        "outputId": "b943a7e2-a63c-416c-dcad-93e89d5c6850"
      },
      "outputs": [
        {
          "name": "stderr",
          "output_type": "stream",
          "text": [
            "2022-03-01 11:04:04.627575: I tensorflow/core/platform/cpu_feature_guard.cc:151] This TensorFlow binary is optimized with oneAPI Deep Neural Network Library (oneDNN) to use the following CPU instructions in performance-critical operations:  AVX2 FMA\n",
            "To enable them in other operations, rebuild TensorFlow with the appropriate compiler flags.\n"
          ]
        },
        {
          "name": "stdout",
          "output_type": "stream",
          "text": [
            "Model: \"vgg16\"\n",
            "_________________________________________________________________\n",
            " Layer (type)                Output Shape              Param #   \n",
            "=================================================================\n",
            " input_1 (InputLayer)        [(None, 224, 224, 3)]     0         \n",
            "                                                                 \n",
            " block1_conv1 (Conv2D)       (None, 224, 224, 64)      1792      \n",
            "                                                                 \n",
            " block1_conv2 (Conv2D)       (None, 224, 224, 64)      36928     \n",
            "                                                                 \n",
            " block1_pool (MaxPooling2D)  (None, 112, 112, 64)      0         \n",
            "                                                                 \n",
            " block2_conv1 (Conv2D)       (None, 112, 112, 128)     73856     \n",
            "                                                                 \n",
            " block2_conv2 (Conv2D)       (None, 112, 112, 128)     147584    \n",
            "                                                                 \n",
            " block2_pool (MaxPooling2D)  (None, 56, 56, 128)       0         \n",
            "                                                                 \n",
            " block3_conv1 (Conv2D)       (None, 56, 56, 256)       295168    \n",
            "                                                                 \n",
            " block3_conv2 (Conv2D)       (None, 56, 56, 256)       590080    \n",
            "                                                                 \n",
            " block3_conv3 (Conv2D)       (None, 56, 56, 256)       590080    \n",
            "                                                                 \n",
            " block3_pool (MaxPooling2D)  (None, 28, 28, 256)       0         \n",
            "                                                                 \n",
            " block4_conv1 (Conv2D)       (None, 28, 28, 512)       1180160   \n",
            "                                                                 \n",
            " block4_conv2 (Conv2D)       (None, 28, 28, 512)       2359808   \n",
            "                                                                 \n",
            " block4_conv3 (Conv2D)       (None, 28, 28, 512)       2359808   \n",
            "                                                                 \n",
            " block4_pool (MaxPooling2D)  (None, 14, 14, 512)       0         \n",
            "                                                                 \n",
            " block5_conv1 (Conv2D)       (None, 14, 14, 512)       2359808   \n",
            "                                                                 \n",
            " block5_conv2 (Conv2D)       (None, 14, 14, 512)       2359808   \n",
            "                                                                 \n",
            " block5_conv3 (Conv2D)       (None, 14, 14, 512)       2359808   \n",
            "                                                                 \n",
            " block5_pool (MaxPooling2D)  (None, 7, 7, 512)         0         \n",
            "                                                                 \n",
            " flatten (Flatten)           (None, 25088)             0         \n",
            "                                                                 \n",
            " fc1 (Dense)                 (None, 4096)              102764544 \n",
            "                                                                 \n",
            " fc2 (Dense)                 (None, 4096)              16781312  \n",
            "                                                                 \n",
            " predictions (Dense)         (None, 1000)              4097000   \n",
            "                                                                 \n",
            "=================================================================\n",
            "Total params: 138,357,544\n",
            "Trainable params: 138,357,544\n",
            "Non-trainable params: 0\n",
            "_________________________________________________________________\n"
          ]
        }
      ],
      "source": [
        "from keras.applications.vgg16 import VGG16\n",
        "from keras.applications.imagenet_utils import decode_predictions\n",
        "\n",
        "model = VGG16(weights='imagenet')\n",
        "model.summary()"
      ]
    },
    {
      "cell_type": "code",
      "execution_count": 8,
      "metadata": {
        "colab": {
          "base_uri": "https://localhost:8080/",
          "height": 51
        },
        "colab_type": "code",
        "id": "7J1btS1W3JBP",
        "outputId": "8fcb326b-acc0-46d8-ecbe-dd45978f1aa0"
      },
      "outputs": [],
      "source": [
        "from keras.models import Sequential\n",
        "from keras.layers import Dense, Conv2D, MaxPooling2D, Flatten\n",
        "from keras.models import Model\n",
        "\n",
        "base_model = VGG16(weights='imagenet', include_top=False, input_shape=(224,224,3)) \n",
        " \n",
        "\n",
        "# Freeze convolutional layers\n",
        "for layer in base_model.layers:\n",
        "    layer.trainable = False    \n",
        "\n",
        "# Establish new fully connected block\n",
        "x = base_model.output\n",
        "x = Flatten()(x)  # flatten from convolution tensor output  \n",
        "x = Dense(500, activation='relu')(x) # number of layers and units are hyperparameters, as usual\n",
        "x = Dense(500, activation='relu')(x)\n",
        "predictions = Dense(len(classes), activation='softmax')(x) # should match # of classes predicted\n",
        "\n",
        "# this is the model we will train\n",
        "model = Model(inputs=base_model.input, outputs=predictions)\n",
        "model.compile(optimizer='adam', loss='categorical_crossentropy', metrics=['categorical_accuracy'])"
      ]
    },
    {
      "cell_type": "code",
      "execution_count": 9,
      "metadata": {
        "colab": {
          "base_uri": "https://localhost:8080/",
          "height": 377
        },
        "colab_type": "code",
        "id": "NWwMLiUu3Q34",
        "outputId": "d50fce4d-5ccb-4cbf-e5ba-da12835bbc48"
      },
      "outputs": [
        {
          "name": "stdout",
          "output_type": "stream",
          "text": [
            "Epoch 1/10\n",
            "76/76 [==============================] - 363s 5s/step - loss: 0.3425 - categorical_accuracy: 0.9514 - val_loss: 0.0104 - val_categorical_accuracy: 0.9984\n",
            "Epoch 2/10\n",
            "76/76 [==============================] - 354s 5s/step - loss: 0.0142 - categorical_accuracy: 0.9963 - val_loss: 0.0085 - val_categorical_accuracy: 0.9971\n",
            "Epoch 3/10\n",
            "76/76 [==============================] - 352s 5s/step - loss: 0.0166 - categorical_accuracy: 0.9955 - val_loss: 0.0057 - val_categorical_accuracy: 0.9975\n",
            "Epoch 4/10\n",
            "76/76 [==============================] - 375s 5s/step - loss: 0.0120 - categorical_accuracy: 0.9975 - val_loss: 0.0028 - val_categorical_accuracy: 0.9992\n",
            "Epoch 5/10\n",
            "76/76 [==============================] - 363s 5s/step - loss: 0.0105 - categorical_accuracy: 0.9963 - val_loss: 0.0018 - val_categorical_accuracy: 0.9992\n",
            "Epoch 6/10\n",
            "76/76 [==============================] - 360s 5s/step - loss: 0.0101 - categorical_accuracy: 0.9967 - val_loss: 0.0020 - val_categorical_accuracy: 0.9996\n",
            "Epoch 7/10\n",
            "76/76 [==============================] - 362s 5s/step - loss: 0.0025 - categorical_accuracy: 0.9992 - val_loss: 0.0014 - val_categorical_accuracy: 0.9996\n",
            "Epoch 8/10\n",
            "76/76 [==============================] - 352s 5s/step - loss: 0.0016 - categorical_accuracy: 0.9996 - val_loss: 6.7165e-04 - val_categorical_accuracy: 0.9996\n",
            "Epoch 9/10\n",
            "76/76 [==============================] - 366s 5s/step - loss: 9.9711e-05 - categorical_accuracy: 1.0000 - val_loss: 2.2574e-04 - val_categorical_accuracy: 1.0000\n",
            "Epoch 10/10\n",
            "76/76 [==============================] - 419s 6s/step - loss: 0.0038 - categorical_accuracy: 0.9984 - val_loss: 0.0024 - val_categorical_accuracy: 0.9992\n"
          ]
        }
      ],
      "source": [
        "epochs = 10\n",
        "\n",
        "history = model.fit(\n",
        "    train_gen, \n",
        "    epochs=epochs,\n",
        "    verbose = 1,\n",
        "    validation_data=test_gen\n",
        "    )\n",
        "# model.save_weights('model_VGG16.h5') \n",
        "model.save('model_VGG16_weight_empty.h5') "
      ]
    },
    {
      "cell_type": "code",
      "execution_count": 10,
      "metadata": {
        "colab": {
          "base_uri": "https://localhost:8080/",
          "height": 349
        },
        "colab_type": "code",
        "id": "w2oNGGKeLo5n",
        "outputId": "11cfc189-0a0a-4c48-c3ba-74b77dce29e4"
      },
      "outputs": [
        {
          "data": {
            "text/plain": [
              "<matplotlib.legend.Legend at 0x140ce01f0>"
            ]
          },
          "execution_count": 10,
          "metadata": {},
          "output_type": "execute_result"
        },
        {
          "data": {
            "image/png": "[encoded data removed]",
            "text/plain": [
              "<Figure size 432x288 with 1 Axes>"
            ]
          },
          "metadata": {
            "needs_background": "light"
          },
          "output_type": "display_data"
        }
      ],
      "source": [
        "import seaborn as sn\n",
        "import matplotlib.pyplot as plt\n",
        "import pandas as pd\n",
        "\n",
        "plt.plot(history.history['categorical_accuracy'], 'ko')\n",
        "plt.plot(history.history['val_categorical_accuracy'], 'b')\n",
        "\n",
        "plt.title('Accuracy vs Training Epoch')\n",
        "plt.xlabel('Epoch')\n",
        "plt.ylabel('Accuracy')\n",
        "plt.legend(['Train', 'Validation'])"
      ]
    },
    {
      "cell_type": "code",
      "execution_count": 11,
      "metadata": {
        "colab": {
          "base_uri": "https://localhost:8080/",
          "height": 943
        },
        "colab_type": "code",
        "id": "3P7FHX05MLUD",
        "outputId": "0c7987d1-75fb-4449-a8e6-5f5e07514289"
      },
      "outputs": [
        {
          "name": "stderr",
          "output_type": "stream",
          "text": [
            "/var/folders/9_/zlm44mjd71z0x26t7h6894980000gn/T/ipykernel_19608/284986293.py:6: UserWarning: `Model.predict_generator` is deprecated and will be removed in a future version. Please use `Model.predict`, which supports generators.\n",
            "  Y_pred = model.predict_generator(test_gen)\n"
          ]
        },
        {
          "name": "stdout",
          "output_type": "stream",
          "text": [
            "3.03125\n"
          ]
        },
        {
          "data": {
            "text/plain": [
              "<AxesSubplot:xlabel='Predicted', ylabel='Actual'>"
            ]
          },
          "execution_count": 11,
          "metadata": {},
          "output_type": "execute_result"
        },
        {
          "data": {
            "image/png": "[encoded data removed]",
            "text/plain": [
              "<Figure size 1440x1008 with 2 Axes>"
            ]
          },
          "metadata": {
            "needs_background": "light"
          },
          "output_type": "display_data"
        }
      ],
      "source": [
        "from sklearn.metrics import classification_report, confusion_matrix\n",
        "\n",
        "target_names = ['Empty', 'Antonym']\n",
        "\n",
        "test_gen.reset()\n",
        "Y_pred = model.predict_generator(test_gen)\n",
        "classes = test_gen.classes[test_gen.index_array]\n",
        "y_pred = np.argmax(Y_pred, axis= -1)\n",
        "print(sum(y_pred==classes)/800)\n",
        "\n",
        "\n",
        "data = confusion_matrix(classes, y_pred)\n",
        "df_cm = pd.DataFrame(data, columns=target_names, index = target_names)\n",
        "df_cm.index.name = 'Actual'\n",
        "df_cm.columns.name = 'Predicted'\n",
        "plt.figure(figsize = (20,14))\n",
        "sn.set(font_scale=1.4)#for label size\n",
        "sn.heatmap(df_cm, cmap=\"Blues\", annot=True,annot_kws={\"size\": 16})# font size"
      ]
    },
    {
      "cell_type": "code",
      "execution_count": null,
      "metadata": {
        "colab": {
          "base_uri": "https://localhost:8080/",
          "height": 612
        },
        "colab_type": "code",
        "id": "RwuWZwvy4VcS",
        "outputId": "28084712-1526-44c5-cd52-0f74b0d4dc84"
      },
      "outputs": [],
      "source": [
        "print('Confusion Matrix')\n",
        "print(data)\n",
        "print('Classification Report')\n",
        "print(classification_report(test_gen.classes[test_gen.index_array], y_pred, target_names=target_names))"
      ]
    },
    {
      "cell_type": "code",
      "execution_count": null,
      "metadata": {
        "colab": {
          "base_uri": "https://localhost:8080/",
          "height": 1000
        },
        "colab_type": "code",
        "id": "u3bYZ_36oVv-",
        "outputId": "695ad3bf-8d90-41fe-b6eb-481488eb5380"
      },
      "outputs": [],
      "source": [
        "from keras.applications.vgg19 import VGG19\n",
        "from keras.applications.imagenet_utils import decode_predictions\n",
        "\n",
        "model_two = VGG19(weights='imagenet')\n",
        "model_two.summary()"
      ]
    },
    {
      "cell_type": "code",
      "execution_count": 13,
      "metadata": {
        "colab": {
          "base_uri": "https://localhost:8080/",
          "height": 51
        },
        "colab_type": "code",
        "id": "wopOBbpwvftf",
        "outputId": "d6022a56-f83c-4e00-b61c-07c50c13a7fc"
      },
      "outputs": [
        {
          "ename": "NameError",
          "evalue": "name 'VGG19' is not defined",
          "output_type": "error",
          "traceback": [
            "\u001b[0;31m---------------------------------------------------------------------------\u001b[0m",
            "\u001b[0;31mNameError\u001b[0m                                 Traceback (most recent call last)",
            "\u001b[1;32m/Users/andhy/dev/project_MYM/cv_chess_model_empty.ipynb Cell 13'\u001b[0m in \u001b[0;36m<cell line: 5>\u001b[0;34m()\u001b[0m\n\u001b[1;32m      <a href='vscode-notebook-cell:/Users/andhy/dev/project_MYM/cv_chess_model_empty.ipynb#ch0000012?line=1'>2</a>\u001b[0m \u001b[39mfrom\u001b[39;00m \u001b[39mkeras\u001b[39;00m\u001b[39m.\u001b[39;00m\u001b[39mlayers\u001b[39;00m \u001b[39mimport\u001b[39;00m Dense, Conv2D, MaxPooling2D, Flatten\n\u001b[1;32m      <a href='vscode-notebook-cell:/Users/andhy/dev/project_MYM/cv_chess_model_empty.ipynb#ch0000012?line=2'>3</a>\u001b[0m \u001b[39mfrom\u001b[39;00m \u001b[39mkeras\u001b[39;00m\u001b[39m.\u001b[39;00m\u001b[39mmodels\u001b[39;00m \u001b[39mimport\u001b[39;00m Model\n\u001b[0;32m----> <a href='vscode-notebook-cell:/Users/andhy/dev/project_MYM/cv_chess_model_empty.ipynb#ch0000012?line=4'>5</a>\u001b[0m base_model_two \u001b[39m=\u001b[39m VGG19(weights\u001b[39m=\u001b[39m\u001b[39m'\u001b[39m\u001b[39mimagenet\u001b[39m\u001b[39m'\u001b[39m, include_top\u001b[39m=\u001b[39m\u001b[39mFalse\u001b[39;00m, input_shape\u001b[39m=\u001b[39m(\u001b[39m224\u001b[39m,\u001b[39m224\u001b[39m,\u001b[39m3\u001b[39m)) \n\u001b[1;32m      <a href='vscode-notebook-cell:/Users/andhy/dev/project_MYM/cv_chess_model_empty.ipynb#ch0000012?line=6'>7</a>\u001b[0m \u001b[39m# Freeze convolutional layers\u001b[39;00m\n\u001b[1;32m      <a href='vscode-notebook-cell:/Users/andhy/dev/project_MYM/cv_chess_model_empty.ipynb#ch0000012?line=7'>8</a>\u001b[0m \u001b[39mfor\u001b[39;00m layer \u001b[39min\u001b[39;00m base_model_two\u001b[39m.\u001b[39mlayers:\n",
            "\u001b[0;31mNameError\u001b[0m: name 'VGG19' is not defined"
          ]
        }
      ],
      "source": [
        "from keras.models import Sequential\n",
        "from keras.layers import Dense, Conv2D, MaxPooling2D, Flatten\n",
        "from keras.models import Model\n",
        "\n",
        "base_model_two = VGG19(weights='imagenet', include_top=False, input_shape=(224,224,3)) \n",
        " \n",
        "# Freeze convolutional layers\n",
        "for layer in base_model_two.layers:\n",
        "    layer.trainable = False    \n",
        "\n",
        "# Establish new fully connected block\n",
        "x = base_model_two.output\n",
        "x = Flatten()(x)  # flatten from convolution tensor output  \n",
        "x = Dense(500, activation='relu')(x) # number of layers and units are hyperparameters, as usual\n",
        "x = Dense(500, activation='relu')(x)\n",
        "predictions = Dense(len(classes), activation='softmax')(x) # should match # of classes predicted\n",
        "\n",
        "# this is the model we will train\n",
        "model_two = Model(inputs=base_model_two.input, outputs=predictions)\n",
        "model_two.compile(optimizer='adam', loss='categorical_crossentropy', metrics=['accuracy'])"
      ]
    },
    {
      "cell_type": "code",
      "execution_count": null,
      "metadata": {
        "colab": {
          "base_uri": "https://localhost:8080/",
          "height": 357
        },
        "colab_type": "code",
        "id": "X0nH7g1Zv3c_",
        "outputId": "6332c1db-a56d-4e60-92fd-391919a60348"
      },
      "outputs": [],
      "source": [
        "epochs = 10\n",
        "\n",
        "history = model_two.fit(\n",
        "    train_gen, \n",
        "    epochs=epochs,\n",
        "    verbose = 1,\n",
        "    validation_data=test_gen\n",
        "    )\n",
        "model.save_weights('model_VGG19_empty.h5') "
      ]
    },
    {
      "cell_type": "code",
      "execution_count": null,
      "metadata": {
        "colab": {
          "base_uri": "https://localhost:8080/",
          "height": 629
        },
        "colab_type": "code",
        "id": "aI_NxGBNwxaU",
        "outputId": "aeb9c5fe-7073-4339-afcc-b737e8604fb6"
      },
      "outputs": [],
      "source": [
        "test_gen.reset()\n",
        "Y_pred = model_two.predict_generator(test_gen)\n",
        "classes = test_gen.classes[test_gen.index_array]\n",
        "y_pred = np.argmax(Y_pred, axis= -1)\n",
        "print(sum(y_pred==classes)/800)\n",
        "\n",
        "\n",
        "print('Confusion Matrix')\n",
        "print(confusion_matrix(classes, y_pred))\n",
        "print('Classification Report')\n",
        "print(classification_report(test_gen.classes[test_gen.index_array], y_pred, target_names=target_names))"
      ]
    },
    {
      "cell_type": "code",
      "execution_count": null,
      "metadata": {},
      "outputs": [],
      "source": [
        "import math\n",
        "import cv2\n",
        "import numpy as np\n",
        "import scipy.spatial as spatial\n",
        "import scipy.cluster as cluster\n",
        "from collections import defaultdict\n",
        "from statistics import mean\n",
        "import chess\n",
        "import chess.svg\n",
        "from svglib.svglib import svg2rlg\n",
        "from reportlab.graphics import renderPM\n",
        "from PIL import Image\n",
        "import re\n",
        "import glob\n",
        "import PIL"
      ]
    },
    {
      "cell_type": "code",
      "execution_count": null,
      "metadata": {},
      "outputs": [],
      "source": [
        "\n",
        "from cv_chess_functions import prepare_image\n",
        "from keras.models import load_model\n",
        "img = prepare_image('./test.jpeg')"
      ]
    },
    {
      "cell_type": "code",
      "execution_count": null,
      "metadata": {},
      "outputs": [],
      "source": [
        "model = load_model('model_VGG16_weight_empty.h5')"
      ]
    },
    {
      "cell_type": "code",
      "execution_count": null,
      "metadata": {
        "colab": {},
        "colab_type": "code",
        "id": "loPv70m_zS1_"
      },
      "outputs": [],
      "source": [
        "\n",
        "\n",
        "out = model.predict(img)\n",
        "\n",
        "print(out)"
      ]
    },
    {
      "cell_type": "code",
      "execution_count": null,
      "metadata": {},
      "outputs": [],
      "source": [
        "category_reference = {0: 'b', 1: 'k', 2: 'n', 3: 'p', 4: 'q', 5: 'r', 6: '1', 7: 'B', 8: 'K', 9: 'N', 10: 'P',\n",
        "11: 'Q', 12: 'R'}\n",
        "top_pred = np.argmax(out)\n",
        "pred = category_reference[top_pred]\n",
        "print(pred)"
      ]
    },
    {
      "cell_type": "code",
      "execution_count": null,
      "metadata": {},
      "outputs": [],
      "source": [
        "import sys\n",
        "print(sys.version)\n",
        "print(sys.path)"
      ]
    }
  ],
  "metadata": {
    "accelerator": "GPU",
    "colab": {
      "name": "cv_chess_model_and_eval.ipynb",
      "provenance": []
    },
    "kernelspec": {
      "display_name": "Python 3",
      "name": "python3"
    },
    "language_info": {
      "codemirror_mode": {
        "name": "ipython",
        "version": 3
      },
      "file_extension": ".py",
      "mimetype": "text/x-python",
      "name": "python",
      "nbconvert_exporter": "python",
      "pygments_lexer": "ipython3",
      "version": "3.9.7"
    }
  },
  "nbformat": 4,
  "nbformat_minor": 0
}
